{
  "nbformat": 4,
  "nbformat_minor": 0,
  "metadata": {
    "colab": {
      "provenance": []
    },
    "kernelspec": {
      "name": "python3",
      "display_name": "Python 3"
    },
    "language_info": {
      "name": "python"
    }
  },
  "cells": [
    {
      "cell_type": "markdown",
      "source": [
        "# Cohere API\u306eClassify\u30a8\u30f3\u30c9\u30dd\u30a4\u30f3\u30c8\u3068\u306f"
      ]
    },
    {
      "cell_type": "markdown",
      "source": [
        "Classify\u30a8\u30f3\u30c9\u30dd\u30a4\u30f3\u30c8\u306f\u3001\u30c6\u30ad\u30b9\u30c8\u3092\u4e8b\u524d\u306b\u5b9a\u7fa9\u3055\u308c\u305f\u30af\u30e9\u30b9\uff08\u30ab\u30c6\u30b4\u30ea\uff09\u306b\u5206\u985e\u3059\u308b\u305f\u3081\u306e\u6a5f\u80fd\u3067\u3059\u3002\u3044\u304f\u3064\u304b\u306e\u4f8b\u3092\u4f7f\u3063\u3066\u3001\u751f\u6210\u30e2\u30c7\u30eb\u304b\u3089\u30af\u30e9\u30b9\u5206\u985e\u5668\u3092\u4f5c\u6210\u3057\u307e\u3059\u3002\u5185\u90e8\u7684\u306b\u306f\u3001few-shot\u5206\u985e\u30d7\u30ed\u30f3\u30d7\u30c8\u3092\u69cb\u7bc9\u3057\u3001\u305d\u308c\u3092\u4f7f\u3063\u3066\u5165\u529b\u30c6\u30ad\u30b9\u30c8\u3092\u5206\u985e\u3057\u307e\u3059\u3002"
      ]
    },
    {
      "cell_type": "markdown",
      "source": [
        "## Classify\u30a8\u30f3\u30c9\u30dd\u30a4\u30f3\u30c8\u306e\u4f7f\u7528\u4f8b"
      ]
    },
    {
      "cell_type": "markdown",
      "source": [
        "\u9867\u5ba2\u30b5\u30dd\u30fc\u30c8\u30c1\u30b1\u30c3\u30c8\u306e\u5206\u985e\u306b\u4f7f\u3048\u307e\u3059\u3002\u4f8b\u3048\u3070\u3001\u4fdd\u967a\u4f1a\u793e\u306b\u5c4a\u304f\u9867\u5ba2\u30e1\u30fc\u30eb\u3092\u4ee5\u4e0b\u306e4\u3064\u306e\u30bf\u30a4\u30d7\u306b\u81ea\u52d5\u5206\u985e\u3067\u304d\u307e\u3059\u3002",
        "",
        "- \u4fdd\u967a\u8a3c\u5238\u306e\u8a73\u7d30\u3092\u63a2\u3059",
        "- \u30a2\u30ab\u30a6\u30f3\u30c8\u8a2d\u5b9a\u306e\u5909\u66f4",
        "- \u4fdd\u967a\u91d1\u8acb\u6c42\u3068\u72b6\u6cc1\u78ba\u8a8d",
        "- \u4fdd\u967a\u306e\u89e3\u7d04",
        "",
        "\u3053\u308c\u306b\u3088\u308a\u3001\u30b5\u30dd\u30fc\u30c8\u30c1\u30fc\u30e0\u306f\u624b\u52d5\u3067\u60c5\u5831\u3092\u5206\u6790\u3057\u3066\u30eb\u30fc\u30c6\u30a3\u30f3\u30b0\u3059\u308b\u624b\u9593\u3092\u7701\u3051\u307e\u3059\u3002"
      ]
    },
    {
      "cell_type": "markdown",
      "source": [
        "## Classify\u30a8\u30f3\u30c9\u30dd\u30a4\u30f3\u30c8\u306e\u4f7f\u3044\u65b9"
      ]
    },
    {
      "cell_type": "markdown",
      "source": [
        "### 1. Cohere SDK\u306e\u30a4\u30f3\u30b9\u30c8\u30fc\u30eb"
      ]
    },
    {
      "cell_type": "markdown",
      "source": [
        "\u307e\u305a\u3001Cohere SDK\u3092\u30a4\u30f3\u30b9\u30c8\u30fc\u30eb\u3057\u307e\u3059\u3002",
        "",
        "```bash",
        "pip install cohere",
        "```"
      ]
    },
    {
      "cell_type": "markdown",
      "source": [
        "### 2. Cohere client\u306e\u8a2d\u5b9a"
      ]
    },
    {
      "cell_type": "markdown",
      "source": [
        "\u6b21\u306b\u3001Cohere client\u3092\u8a2d\u5b9a\u3057\u307e\u3059\u3002"
      ]
    },
    {
      "cell_type": "code",
      "execution_count": null,
      "metadata": {},
      "outputs": [],
      "source": [
        "import cohere",
        "co = cohere.Client(api_key)"
      ]
    },
    {
      "cell_type": "markdown",
      "source": [
        "### 3. \u5b66\u7fd2\u7528\u306e\u4f8b\u306e\u8ffd\u52a0"
      ]
    },
    {
      "cell_type": "markdown",
      "source": [
        "\u5b66\u7fd2\u7528\u306e\u4f8b\u3092\u8ffd\u52a0\u3057\u307e\u3059\u3002\u5404\u4f8b\u306f\u30c6\u30ad\u30b9\u30c8\u3068\u305d\u308c\u306b\u5bfe\u5fdc\u3059\u308b\u30e9\u30d9\u30eb\uff08\u30af\u30e9\u30b9\uff09\u3067\u69cb\u6210\u3055\u308c\u307e\u3059\u3002\u5404\u30af\u30e9\u30b9\u306b\u6700\u4f4e2\u3064\u306e\u4f8b\u304c\u5fc5\u8981\u3067\u3059\u3002"
      ]
    },
    {
      "cell_type": "code",
      "execution_count": null,
      "metadata": {},
      "outputs": [],
      "source": [
        "from cohere.responses.classify import Example",
        "",
        "examples=[",
        "  Example(\"\u4fdd\u967a\u8a3c\u5238\u306f\u3069\u3053\u3067\u898b\u3064\u3051\u3089\u308c\u307e\u3059\u304b\uff1f\", \"\u4fdd\u967a\u8a3c\u5238\u306e\u8a73\u7d30\u3092\u63a2\u3059\"),",
        "  Example(\"\u4fdd\u967a\u8a3c\u5238\u306e\u30b3\u30d4\u30fc\u3092\u30c0\u30a6\u30f3\u30ed\u30fc\u30c9\u3059\u308b\u65b9\u6cd5\u306f\uff1f\", \"\u4fdd\u967a\u8a3c\u5238\u306e\u8a73\u7d30\u3092\u63a2\u3059\"),",
        "  ...",
        "]"
      ]
    },
    {
      "cell_type": "markdown",
      "source": [
        "### 4. \u5206\u985e\u5bfe\u8c61\u30c6\u30ad\u30b9\u30c8\u306e\u8ffd\u52a0"
      ]
    },
    {
      "cell_type": "markdown",
      "source": [
        "\u5206\u985e\u3057\u305f\u3044\u30c6\u30ad\u30b9\u30c8\u3092\u5165\u529b\u3068\u3057\u3066\u8ffd\u52a0\u3057\u307e\u3059\u3002"
      ]
    },
    {
      "cell_type": "code",
      "execution_count": null,
      "metadata": {},
      "outputs": [],
      "source": [
        "inputs=[\"\u30d1\u30b9\u30ef\u30fc\u30c9\u3092\u5909\u66f4\u3057\u305f\u3044\u306e\u3067\u3059\u304c\",",
        "        \"\u79c1\u306e\u4fdd\u967a\u3067\u51e6\u65b9\u85ac\u306f\u30ab\u30d0\u30fc\u3055\u308c\u3066\u3044\u307e\u3059\u304b\uff1f\"",
        "        ]"
      ]
    },
    {
      "cell_type": "markdown",
      "source": [
        "### 5. Classify\u30a8\u30f3\u30c9\u30dd\u30a4\u30f3\u30c8\u306e\u547c\u3073\u51fa\u3057"
      ]
    },
    {
      "cell_type": "markdown",
      "source": [
        "Classify\u30a8\u30f3\u30c9\u30dd\u30a4\u30f3\u30c8\u3092\u547c\u3073\u51fa\u3057\u3066\u5206\u985e\u3057\u307e\u3059\u3002\u30e2\u30c7\u30eb\u306e\u30bf\u30a4\u30d7\u3092\u6307\u5b9a\u3057\u307e\u3059\uff08\u30c7\u30d5\u30a9\u30eb\u30c8\u306flarge\uff09\u3002"
      ]
    },
    {
      "cell_type": "code",
      "execution_count": null,
      "metadata": {},
      "outputs": [],
      "source": [
        "response = co.classify(",
        "    model='large',",
        "    inputs=inputs,",
        "    examples=examples)",
        "",
        "print(response.classifications)"
      ]
    },
    {
      "cell_type": "markdown",
      "source": [
        "## \u30ec\u30b9\u30dd\u30f3\u30b9\u306e\u4f8b"
      ]
    },
    {
      "cell_type": "markdown",
      "source": [
        "```json",
        "{",
        "  \"results\": [",
        "    {",
        "      \"text\": \"\u30d1\u30b9\u30ef\u30fc\u30c9\u3092\u5909\u66f4\u3057\u305f\u3044\u306e\u3067\u3059\u304c\",",
        "      \"prediction\": \"\u30a2\u30ab\u30a6\u30f3\u30c8\u8a2d\u5b9a\u306e\u5909\u66f4\",",
        "      \"confidence\": 0.82,",
        "      ...",
        "    },",
        "    {",
        "      \"text\":  \"\u79c1\u306e\u4fdd\u967a\u3067\u51e6\u65b9\u85ac\u306f\u30ab\u30d0\u30fc\u3055\u308c\u3066\u3044\u307e\u3059\u304b\uff1f\",",
        "      \"prediction\": \"\u4fdd\u967a\u8a3c\u5238\u306e\u8a73\u7d30\u3092\u63a2\u3059\",",
        "      \"confidence\": 0.75,",
        "      ...",
        "    }",
        "  ]",
        "}",
        "```",
        "",
        "\u4ee5\u4e0a\u304c\u3001Cohere API\u306eClassify\u30a8\u30f3\u30c9\u30dd\u30a4\u30f3\u30c8\u306e\u6982\u8981\u3068\u57fa\u672c\u7684\u306a\u4f7f\u3044\u65b9\u3067\u3059\u3002\u30c6\u30ad\u30b9\u30c8\u5206\u985e\u30bf\u30b9\u30af\u3092\u624b\u8efd\u306b\u5b9f\u88c5\u3067\u304d\u308b\u4fbf\u5229\u306a\u6a5f\u80fd\u3068\u3044\u3048\u308b\u3067\u3057\u3087\u3046\u3002"
      ]
    }
  ]
}
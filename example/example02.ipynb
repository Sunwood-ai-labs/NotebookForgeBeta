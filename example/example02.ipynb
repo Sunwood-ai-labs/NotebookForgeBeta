{
  "nbformat": 4,
  "nbformat_minor": 0,
  "metadata": {
    "colab": {
      "provenance": []
    },
    "kernelspec": {
      "name": "python3",
      "display_name": "Python 3"
    },
    "language_info": {
      "name": "python"
    }
  },
  "cells": [
    {
      "cell_type": "markdown",
      "source": [
        "# AIMO Starter Notebook Gemma 7b"
      ]
    },
    {
      "cell_type": "markdown",
      "source": [
        "\u3053\u306e\u30ce\u30fc\u30c8\u30d6\u30c3\u30af\u3067\u306f\u3001Kaggle\u306e\u30d7\u30e9\u30c3\u30c8\u30d5\u30a9\u30fc\u30e0\u3092\u5229\u7528\u3057\u3066\u6570\u5b66\u30aa\u30ea\u30f3\u30d4\u30c3\u30af\u306e\u554f\u984c\u3092\u89e3\u7b54\u3059\u308b\u30e2\u30c7\u30eb\u3092\u69cb\u7bc9\u3057\u307e\u3059\u3002\u4ee5\u4e0b\u306e\u624b\u9806\u3067\u9032\u3081\u3066\u3044\u304d\u307e\u3059\u3002"
      ]
    },
    {
      "cell_type": "markdown",
      "source": [
        "# 1. \u30e9\u30a4\u30d6\u30e9\u30ea\u3068\u30c7\u30fc\u30bf\u30bb\u30c3\u30c8\u306e\u30a4\u30f3\u30dd\u30fc\u30c8"
      ]
    },
    {
      "cell_type": "markdown",
      "source": [
        "\u6700\u521d\u306b\u5fc5\u8981\u306a\u30e9\u30a4\u30d6\u30e9\u30ea\u3092\u30a4\u30f3\u30dd\u30fc\u30c8\u3057\u3001\u30c7\u30fc\u30bf\u30bb\u30c3\u30c8\u3092\u8aad\u307f\u8fbc\u307f\u307e\u3059\u3002"
      ]
    },
    {
      "cell_type": "code",
      "execution_count": null,
      "metadata": {},
      "outputs": [],
      "source": [
        "import numpy as np # \u7dda\u5f62\u4ee3\u6570\u7528\u30e9\u30a4\u30d6\u30e9\u30ea",
        "import pandas as pd # \u30c7\u30fc\u30bf\u51e6\u7406\u7528\u30e9\u30a4\u30d6\u30e9\u30ea",
        "import re # \u6b63\u898f\u8868\u73fe\u7528\u30e9\u30a4\u30d6\u30e9\u30ea",
        "import os # \u30d5\u30a1\u30a4\u30eb\u64cd\u4f5c\u7528\u30e9\u30a4\u30d6\u30e9\u30ea",
        "",
        "# \u30ab\u30ec\u30f3\u30c8\u30c7\u30a3\u30ec\u30af\u30c8\u30ea\u5185\u306e\u30c7\u30fc\u30bf\u30bb\u30c3\u30c8\u3092\u78ba\u8a8d",
        "for dirname, _, filenames in os.walk('/kaggle/input'):",
        "    for filename in filenames:",
        "        print(os.path.join(dirname, filename))"
      ]
    },
    {
      "cell_type": "markdown",
      "source": [
        "# 2. \u5fc5\u8981\u306a\u30e9\u30a4\u30d6\u30e9\u30ea\u306e\u30a4\u30f3\u30b9\u30c8\u30fc\u30eb"
      ]
    },
    {
      "cell_type": "markdown",
      "source": [
        "\u30e2\u30c7\u30eb\u69cb\u7bc9\u306b\u5fc5\u8981\u306a\u30e9\u30a4\u30d6\u30e9\u30ea\u3092\u30a4\u30f3\u30b9\u30c8\u30fc\u30eb\u3057\u307e\u3059\u3002"
      ]
    },
    {
      "cell_type": "code",
      "execution_count": null,
      "metadata": {},
      "outputs": [],
      "source": [
        "!pip install -q tensorflow-cpu",
        "!pip install -q -U keras-nlp tensorflow-hub",
        "!pip install -q -U keras>=3",
        "!pip install -U tensorflow-text"
      ]
    },
    {
      "cell_type": "markdown",
      "source": [
        "# 3. \u74b0\u5883\u8a2d\u5b9a"
      ]
    },
    {
      "cell_type": "markdown",
      "source": [
        "JAX\u3092\u4f7f\u7528\u3059\u308b\u305f\u3081\u306b\u74b0\u5883\u5909\u6570\u3092\u8a2d\u5b9a\u3057\u307e\u3059\u3002"
      ]
    },
    {
      "cell_type": "code",
      "execution_count": null,
      "metadata": {},
      "outputs": [],
      "source": [
        "import jax",
        "",
        "jax.devices()",
        "",
        "import os",
        "",
        "os.environ[\"KERAS_BACKEND\"] = \"jax\"",
        "os.environ[\"XLA_PYTHON_CLIENT_MEM_FRACTION\"]=\"0.9\"",
        "",
        "import keras",
        "import keras_nlp"
      ]
    },
    {
      "cell_type": "markdown",
      "source": [
        "# 4. \u30c7\u30d0\u30a4\u30b9\u30e1\u30c3\u30b7\u30e5\u306e\u8a2d\u5b9a"
      ]
    },
    {
      "cell_type": "markdown",
      "source": [
        "\u30e2\u30c7\u30eb\u3092\u8907\u6570\u306eTPU\u3067\u4e26\u5217\u306b\u5b9f\u884c\u3059\u308b\u305f\u3081\u306e\u30c7\u30d0\u30a4\u30b9\u30e1\u30c3\u30b7\u30e5\u3092\u8a2d\u5b9a\u3057\u307e\u3059\u3002"
      ]
    },
    {
      "cell_type": "code",
      "execution_count": null,
      "metadata": {},
      "outputs": [],
      "source": [
        "device_mesh = keras.distribution.DeviceMesh(",
        "    (1, 8),",
        "    [\"batch\", \"model\"],",
        "    devices=keras.distribution.list_devices())"
      ]
    },
    {
      "cell_type": "markdown",
      "source": [
        "# 5. \u30c7\u30fc\u30bf\u30bb\u30c3\u30c8\u306e\u8aad\u307f\u8fbc\u307f"
      ]
    },
    {
      "cell_type": "markdown",
      "source": [
        "\u5b66\u7fd2\u7528\u30c7\u30fc\u30bf\u3068\u8a55\u4fa1\u7528\u30c7\u30fc\u30bf\u3092\u8aad\u307f\u8fbc\u307f\u307e\u3059\u3002"
      ]
    },
    {
      "cell_type": "code",
      "execution_count": null,
      "metadata": {},
      "outputs": [],
      "source": [
        "Test = pd.read_csv('/kaggle/input/ai-mathematical-olympiad-prize/test.csv')",
        "Train = pd.read_csv('/kaggle/input/ai-mathematical-olympiad-prize/train.csv')"
      ]
    },
    {
      "cell_type": "markdown",
      "source": [
        "# 6. \u30e2\u30c7\u30eb\u306e\u8a2d\u5b9a"
      ]
    },
    {
      "cell_type": "markdown",
      "source": [
        "\u30e2\u30c7\u30eb\u306e\u4e26\u5217\u5316\u306e\u305f\u3081\u306e\u30ec\u30a4\u30a2\u30a6\u30c8\u30de\u30c3\u30d7\u3092\u8a2d\u5b9a\u3057\u3001Gemma 7b\u30e2\u30c7\u30eb\u3092\u8aad\u307f\u8fbc\u307f\u307e\u3059\u3002"
      ]
    },
    {
      "cell_type": "code",
      "execution_count": null,
      "metadata": {},
      "outputs": [],
      "source": [
        "model_dim = \"model\"",
        "",
        "layout_map = keras.distribution.LayoutMap(device_mesh)",
        "",
        "# \u5404\u5c64\u306e\u91cd\u307f\u3092\u9069\u5207\u306b\u30b7\u30e3\u30fc\u30c7\u30a3\u30f3\u30b0\u3059\u308b\u305f\u3081\u306e\u30ec\u30a4\u30a2\u30a6\u30c8\u30de\u30c3\u30d7\u3092\u8a2d\u5b9a",
        "layout_map[\"token_embedding/embeddings\"] = (None, model_dim)",
        "layout_map[\"decoder_block.*attention.*(query|key|value).*kernel\"] = (",
        "    None, model_dim, None)",
        "layout_map[\"decoder_block.*attention_output.*kernel\"] = (",
        "    None, None, model_dim)",
        "layout_map[\"decoder_block.*ffw_gating.*kernel\"] = (model_dim, None)",
        "layout_map[\"decoder_block.*ffw_linear.*kernel\"] = (None, model_dim)",
        "",
        "%%time",
        "",
        "model_parallel = keras.distribution.ModelParallel(",
        "    device_mesh, layout_map, batch_dim_name=\"batch\")",
        "",
        "keras.distribution.set_distribution(model_parallel)",
        "gemma_lm = keras_nlp.models.GemmaCausalLM.from_preset(\"gemma_instruct_7b_en\")"
      ]
    },
    {
      "cell_type": "markdown",
      "source": [
        "# 7. \u30e2\u30c7\u30eb\u306e\u30c6\u30b9\u30c8"
      ]
    },
    {
      "cell_type": "markdown",
      "source": [
        "\u8aad\u307f\u8fbc\u3093\u3060\u30e2\u30c7\u30eb\u3092\u4f7f\u7528\u3057\u3066\u3001\u5b66\u7fd2\u30c7\u30fc\u30bf\u306e\u554f\u984c\u3092\u89e3\u7b54\u3057\u307e\u3059\u3002"
      ]
    },
    {
      "cell_type": "code",
      "execution_count": null,
      "metadata": {},
      "outputs": [],
      "source": [
        "responses = []",
        "",
        "for i in Train['problem']:",
        "    prompt = (f\"Hello! I hope you are excellent. I'm going to expose you a math problem, please give me the ONLY the answer as an integer number. PROBLEM: {i}\")",
        "    response = gemma_lm.generate(prompt,max_length=850)",
        "    print(response)",
        "    responses.append(response)",
        "",
        "Train['gemma_7b_answer'] = responses",
        "",
        "def extract_integer(text):",
        "    match = re.search(r'The answer is: (\\d+)', text)",
        "    if match:",
        "        return int(match.group(1))",
        "    else:",
        "        return None",
        "",
        "Train['gemma_7b_answer_integer'] = Train['gemma_7b_answer'].apply(extract_integer)",
        "Train['gemma_7b_answer'] = Train['gemma_7b_answer_integer']",
        "Train = Train.drop('gemma_7b_answer_integer', axis=1)"
      ]
    },
    {
      "cell_type": "markdown",
      "source": [
        "# 8. \u8a55\u4fa1"
      ]
    },
    {
      "cell_type": "markdown",
      "source": [
        "\u30e2\u30c7\u30eb\u306e\u89e3\u7b54\u7d50\u679c\u3092\u78ba\u8a8d\u3057\u307e\u3059\u3002"
      ]
    },
    {
      "cell_type": "code",
      "execution_count": null,
      "metadata": {},
      "outputs": [],
      "source": [
        "Train"
      ]
    },
    {
      "cell_type": "markdown",
      "source": [
        "> The results are awful, it seems that Gemma 7b needs a hard training in math in order to pass the exams!\n\n\u7d50\u679c\u306f\u3042\u307e\u308a\u826f\u304f\u306a\u3044\u3088\u3046\u3067\u3059\u3002Gemma 7b\u30e2\u30c7\u30eb\u3092\u6570\u5b66\u306e\u554f\u984c\u306b\u9069\u5fdc\u3055\u305b\u308b\u305f\u3081\u306b\u306f\u3001\u3055\u3089\u306a\u308b\u5b66\u7fd2\u304c\u5fc5\u8981\u305d\u3046\u3067\u3059\u3002"
      ]
    },
    {
      "cell_type": "markdown",
      "source": [
        "# 9. \u6b21\u306e\u30b9\u30c6\u30c3\u30d7"
      ]
    },
    {
      "cell_type": "markdown",
      "source": [
        "- Gemma 7b\u30e2\u30c7\u30eb\u306e\u30d5\u30a1\u30a4\u30f3\u30c1\u30e5\u30fc\u30cb\u30f3\u30b0\n- \u4ed6\u306e\u30e2\u30c7\u30eb\u306e\u8a66\u884c\n   - Mixtral\n   - Llama\n   - \u306a\u3069\n\n\u4ee5\u4e0a\u304c\u3001Kaggle\u306e\u30ce\u30fc\u30c8\u30d6\u30c3\u30af\u3092\u4f7f\u7528\u3057\u305f\u6570\u5b66\u30aa\u30ea\u30f3\u30d4\u30c3\u30af\u554f\u984c\u306e\u89e3\u7b54\u30e2\u30c7\u30eb\u306e\u69cb\u7bc9\u624b\u9806\u3067\u3059\u3002\u521d\u5fc3\u8005\u306e\u65b9\u3067\u3082\u30b3\u30fc\u30c9\u306e\u6d41\u308c\u304c\u7406\u89e3\u3057\u3084\u3059\u3044\u3088\u3046\u306b\u3001\u5404\u51e6\u7406\u3092\u30bb\u30eb\u3054\u3068\u306b\u5206\u5272\u3057\u3001\u30b3\u30e1\u30f3\u30c8\u3092\u4ed8\u4e0e\u3057\u307e\u3057\u305f\u3002\u3053\u308c\u3092\u53c2\u8003\u306b\u3001\u3055\u3089\u306a\u308b\u30e2\u30c7\u30eb\u306e\u6539\u5584\u306b\u53d6\u308a\u7d44\u3093\u3067\u307f\u3066\u304f\u3060\u3055\u3044\u3002"
      ]
    }
  ]
}